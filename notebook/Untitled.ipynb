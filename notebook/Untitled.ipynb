{
 "cells": [
  {
   "cell_type": "code",
   "execution_count": 15,
   "id": "bd568653-3155-4222-ab31-71fc5c90d164",
   "metadata": {},
   "outputs": [],
   "source": [
    "import feedparser\n",
    "\n",
    "BASE_URL = \"http://export.arxiv.org/api/query\"\n",
    "\n",
    "def search_papers(query: str, max_results: int = 10):\n",
    "    \"\"\"\n",
    "    Search Arxiv for research papers based on a query string.\n",
    "\n",
    "    Parameters:\n",
    "        query (str): The search query (e.g., keywords, author names).\n",
    "        max_results (int): The maximum number of results to return.\n",
    "\n",
    "    Returns:\n",
    "        List[ResearchPaper]: A list of ResearchPaper objects with data from Arxiv.\n",
    "    \"\"\"\n",
    "    params = {\n",
    "        \"search_query\": query,\n",
    "        \"max_results\": max_results,\n",
    "        \"sortBy\": \"relevance\",\n",
    "        \"sortOrder\": \"descending\"\n",
    "    }\n",
    "    \n",
    "    response = requests.get(BASE_URL, params=params)\n",
    "    response.raise_for_status()\n",
    "    \n",
    "    return feedparser.parse(response.text)"
   ]
  },
  {
   "cell_type": "code",
   "execution_count": 21,
   "id": "fb2ad416-52a7-42fc-a6ed-11781ac6f7c3",
   "metadata": {},
   "outputs": [
    {
     "data": {
      "text/plain": [
       "{'id': 'http://arxiv.org/abs/cond-mat/0102536v1',\n",
       " 'guidislink': True,\n",
       " 'link': 'http://arxiv.org/abs/cond-mat/0102536v1',\n",
       " 'updated': '2001-02-28T20:12:09Z',\n",
       " 'updated_parsed': time.struct_time(tm_year=2001, tm_mon=2, tm_mday=28, tm_hour=20, tm_min=12, tm_sec=9, tm_wday=2, tm_yday=59, tm_isdst=0),\n",
       " 'published': '2001-02-28T20:12:09Z',\n",
       " 'published_parsed': time.struct_time(tm_year=2001, tm_mon=2, tm_mday=28, tm_hour=20, tm_min=12, tm_sec=9, tm_wday=2, tm_yday=59, tm_isdst=0),\n",
       " 'title': 'Impact of Electron-Electron Cusp on Configuration Interaction Energies',\n",
       " 'title_detail': {'type': 'text/plain',\n",
       "  'language': None,\n",
       "  'base': '',\n",
       "  'value': 'Impact of Electron-Electron Cusp on Configuration Interaction Energies'},\n",
       " 'summary': 'The effect of the electron-electron cusp on the convergence of configuration\\ninteraction (CI) wave functions is examined. By analogy with the\\npseudopotential approach for electron-ion interactions, an effective\\nelectron-electron interaction is developed which closely reproduces the\\nscattering of the Coulomb interaction but is smooth and finite at zero\\nelectron-electron separation. The exact many-electron wave function for this\\nsmooth effective interaction has no cusp at zero electron-electron separation.\\nWe perform CI and quantum Monte Carlo calculations for He and Be atoms, both\\nwith the Coulomb electron-electron interaction and with the smooth effective\\nelectron-electron interaction. We find that convergence of the CI expansion of\\nthe wave function for the smooth electron-electron interaction is not\\nsignificantly improved compared with that for the divergent Coulomb interaction\\nfor energy differences on the order of 1 mHartree. This shows that, contrary to\\npopular belief, description of the electron-electron cusp is not a limiting\\nfactor, to within chemical accuracy, for CI calculations.',\n",
       " 'summary_detail': {'type': 'text/plain',\n",
       "  'language': None,\n",
       "  'base': '',\n",
       "  'value': 'The effect of the electron-electron cusp on the convergence of configuration\\ninteraction (CI) wave functions is examined. By analogy with the\\npseudopotential approach for electron-ion interactions, an effective\\nelectron-electron interaction is developed which closely reproduces the\\nscattering of the Coulomb interaction but is smooth and finite at zero\\nelectron-electron separation. The exact many-electron wave function for this\\nsmooth effective interaction has no cusp at zero electron-electron separation.\\nWe perform CI and quantum Monte Carlo calculations for He and Be atoms, both\\nwith the Coulomb electron-electron interaction and with the smooth effective\\nelectron-electron interaction. We find that convergence of the CI expansion of\\nthe wave function for the smooth electron-electron interaction is not\\nsignificantly improved compared with that for the divergent Coulomb interaction\\nfor energy differences on the order of 1 mHartree. This shows that, contrary to\\npopular belief, description of the electron-electron cusp is not a limiting\\nfactor, to within chemical accuracy, for CI calculations.'},\n",
       " 'authors': [{'name': 'David Prendergast'},\n",
       "  {'name': 'M. Nolan'},\n",
       "  {'name': 'Claudia Filippi'},\n",
       "  {'name': 'Stephen Fahy'},\n",
       "  {'name': 'J. C. Greer'}],\n",
       " 'author_detail': {'name': 'J. C. Greer'},\n",
       " 'arxiv_affiliation': 'NMRC, University College, Cork, Ireland',\n",
       " 'author': 'J. C. Greer',\n",
       " 'arxiv_doi': '10.1063/1.1383585',\n",
       " 'links': [{'title': 'doi',\n",
       "   'href': 'http://dx.doi.org/10.1063/1.1383585',\n",
       "   'rel': 'related',\n",
       "   'type': 'text/html'},\n",
       "  {'href': 'http://arxiv.org/abs/cond-mat/0102536v1',\n",
       "   'rel': 'alternate',\n",
       "   'type': 'text/html'},\n",
       "  {'title': 'pdf',\n",
       "   'href': 'http://arxiv.org/pdf/cond-mat/0102536v1',\n",
       "   'rel': 'related',\n",
       "   'type': 'application/pdf'}],\n",
       " 'arxiv_comment': '11 pages, 6 figures, 3 tables, LaTeX209, submitted to The Journal of\\n  Chemical Physics',\n",
       " 'arxiv_journal_ref': 'J. Chem. Phys. 115, 1626 (2001)',\n",
       " 'arxiv_primary_category': {'term': 'cond-mat.str-el',\n",
       "  'scheme': 'http://arxiv.org/schemas/atom'},\n",
       " 'tags': [{'term': 'cond-mat.str-el',\n",
       "   'scheme': 'http://arxiv.org/schemas/atom',\n",
       "   'label': None}]}"
      ]
     },
     "execution_count": 21,
     "metadata": {},
     "output_type": "execute_result"
    }
   ],
   "source": [
    "search_papers(query=\"electron\", max_results=10)['entries'][0]"
   ]
  },
  {
   "cell_type": "code",
   "execution_count": null,
   "id": "ce4519d6-43fa-4de3-94ce-045370d13c64",
   "metadata": {},
   "outputs": [],
   "source": []
  }
 ],
 "metadata": {
  "kernelspec": {
   "display_name": "Python 3 (ipykernel)",
   "language": "python",
   "name": "python3"
  },
  "language_info": {
   "codemirror_mode": {
    "name": "ipython",
    "version": 3
   },
   "file_extension": ".py",
   "mimetype": "text/x-python",
   "name": "python",
   "nbconvert_exporter": "python",
   "pygments_lexer": "ipython3",
   "version": "3.12.4"
  }
 },
 "nbformat": 4,
 "nbformat_minor": 5
}
